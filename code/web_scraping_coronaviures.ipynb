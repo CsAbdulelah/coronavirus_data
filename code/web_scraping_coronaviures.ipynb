{
 "cells": [
  {
   "cell_type": "markdown",
   "metadata": {},
   "source": [
    "# Corona viures daily cases"
   ]
  },
  {
   "cell_type": "code",
   "execution_count": 8,
   "metadata": {},
   "outputs": [],
   "source": [
    "import pandas as pd\n",
    "from bs4 import BeautifulSoup\n",
    "from time import sleep\n",
    "from selenium import webdriver\n",
    "import matplotlib.pyplot  as plt\n",
    "import seaborn as sns"
   ]
  },
  {
   "cell_type": "code",
   "execution_count": 10,
   "metadata": {},
   "outputs": [],
   "source": [
    "driver = webdriver.Chrome(executable_path='../chromedriver/chromedriver.exe')"
   ]
  },
  {
   "cell_type": "code",
   "execution_count": 11,
   "metadata": {},
   "outputs": [],
   "source": [
    "driver.get('https://www.worldometers.info/coronavirus/#countries')\n",
    "html = driver.page_source\n",
    "soup2 = BeautifulSoup(html,\"html\")"
   ]
  },
  {
   "cell_type": "markdown",
   "metadata": {},
   "source": [
    "## Grap data from page"
   ]
  },
  {
   "cell_type": "code",
   "execution_count": 16,
   "metadata": {},
   "outputs": [],
   "source": [
    "table = soup2.find('table',class_=\"table table-bordered table-hover main_table_countries dataTable no-footer\")"
   ]
  },
  {
   "cell_type": "code",
   "execution_count": 20,
   "metadata": {},
   "outputs": [],
   "source": [
    "# create list for column name \n",
    "heading = []\n",
    "for i in table.find_all('th'):\n",
    "    heading.append(i.text)"
   ]
  },
  {
   "cell_type": "code",
   "execution_count": 30,
   "metadata": {},
   "outputs": [
    {
     "data": {
      "text/plain": [
       "['Country,Other',\n",
       " 'TotalCases',\n",
       " 'NewCases',\n",
       " 'TotalDeaths',\n",
       " 'NewDeaths',\n",
       " 'TotalRecovered',\n",
       " 'ActiveCases',\n",
       " 'Serious,Critical',\n",
       " 'Tot\\xa0Cases/1M pop',\n",
       " 'Deaths/1M pop',\n",
       " 'TotalTests',\n",
       " 'Tests/\\n1M pop\\n',\n",
       " 'Continent']"
      ]
     },
     "execution_count": 30,
     "metadata": {},
     "output_type": "execute_result"
    }
   ],
   "source": [
    "heading"
   ]
  },
  {
   "cell_type": "code",
   "execution_count": 27,
   "metadata": {},
   "outputs": [],
   "source": [
    "# create list for each row\n",
    "tr = []"
   ]
  },
  {
   "cell_type": "code",
   "execution_count": 28,
   "metadata": {},
   "outputs": [],
   "source": [
    "#append each row in the list\n",
    "for i in table.find_all('tr'):\n",
    "    tr.append(i)"
   ]
  },
  {
   "cell_type": "code",
   "execution_count": 123,
   "metadata": {},
   "outputs": [],
   "source": [
    "#list for each column\n",
    "Country = []\n",
    "TotalCases = []\n",
    "NewCases = []\n",
    "TotalDeaths = []\n",
    "NewDeaths = []\n",
    "TotalRecovered = []\n",
    "ActiveCases = []\n",
    "Serious = []\n",
    "Total_cases = []\n",
    "Deaths1m  = []\n",
    "TotalTests = []\n",
    "Tests1m = []\n",
    "Continen = []"
   ]
  },
  {
   "cell_type": "code",
   "execution_count": 125,
   "metadata": {},
   "outputs": [],
   "source": [
    "#itirate for each coulmn data to append it row by row\n",
    "for i in tr[1:]:\n",
    "    try:\n",
    "        Country.append(i.find_all('td')[0].text)\n",
    "        TotalCases.append(i.find_all('td')[1].text)\n",
    "        NewCases.append(i.find_all('td')[2].text)\n",
    "        TotalDeaths.append(i.find_all('td')[3].text)\n",
    "        NewDeaths.append(i.find_all('td')[4].text)\n",
    "        TotalRecovered.append(i.find_all('td')[5].text)\n",
    "        ActiveCases.append(i.find_all('td')[6].text)\n",
    "        Serious.append(i.find_all('td')[7].text)\n",
    "        Total_cases.append(i.find_all('td')[8].text)\n",
    "        Deaths1m.append(i.find_all('td')[9].text)\n",
    "        TotalTests.append(i.find_all('td')[10].text)\n",
    "        Tests1m.append(i.find_all('td')[11].text)\n",
    "        Continen.append(i.find_all('td')[12].text)\n",
    "    except:\n",
    "          print('error')\n",
    "          break"
   ]
  },
  {
   "cell_type": "code",
   "execution_count": 154,
   "metadata": {},
   "outputs": [],
   "source": [
    "# create dataframe\n",
    "df = pd.DataFrame({\n",
    "    'country':Country,\n",
    "    'total_cases':TotalCases,\n",
    "    'new_case':NewCases,\n",
    "    'total_deaths':TotalDeaths,\n",
    "    'today_death':NewDeaths,\n",
    "    'total_recovery':TotalRecovered,\n",
    "    'total_active_cases':ActiveCases,\n",
    "    'critical_cases':Serious,\n",
    "    'Total1m':Total_cases,\n",
    "    'Deaths1m':Deaths1m,\n",
    "    'TotalTests':TotalTests,\n",
    "    'Tests1m':Tests1m,\n",
    "    'continen':Continen\n",
    "    \n",
    "})"
   ]
  },
  {
   "cell_type": "markdown",
   "metadata": {},
   "source": [
    "## Explore data"
   ]
  },
  {
   "cell_type": "code",
   "execution_count": 157,
   "metadata": {},
   "outputs": [
    {
     "name": "stdout",
     "output_type": "stream",
     "text": [
      "<class 'pandas.core.frame.DataFrame'>\n",
      "RangeIndex: 228 entries, 0 to 227\n",
      "Data columns (total 13 columns):\n",
      "country               228 non-null object\n",
      "total_cases           228 non-null object\n",
      "new_case              228 non-null object\n",
      "total_deaths          228 non-null object\n",
      "today_death           228 non-null object\n",
      "total_recovery        228 non-null object\n",
      "total_active_cases    228 non-null object\n",
      "critical_cases        228 non-null object\n",
      "Total1m               228 non-null object\n",
      "Deaths1m              228 non-null object\n",
      "TotalTests            228 non-null object\n",
      "Tests1m               228 non-null object\n",
      "continen              228 non-null object\n",
      "dtypes: object(13)\n",
      "memory usage: 23.3+ KB\n"
     ]
    }
   ],
   "source": [
    "df.info()"
   ]
  },
  {
   "cell_type": "code",
   "execution_count": 158,
   "metadata": {},
   "outputs": [
    {
     "data": {
      "text/plain": [
       "country               0\n",
       "total_cases           0\n",
       "new_case              0\n",
       "total_deaths          0\n",
       "today_death           0\n",
       "total_recovery        0\n",
       "total_active_cases    0\n",
       "critical_cases        0\n",
       "Total1m               0\n",
       "Deaths1m              0\n",
       "TotalTests            0\n",
       "Tests1m               0\n",
       "continen              0\n",
       "dtype: int64"
      ]
     },
     "execution_count": 158,
     "metadata": {},
     "output_type": "execute_result"
    }
   ],
   "source": [
    "df.isnull().sum() "
   ]
  },
  {
   "cell_type": "markdown",
   "metadata": {},
   "source": [
    "## Clean Data"
   ]
  },
  {
   "cell_type": "code",
   "execution_count": 200,
   "metadata": {},
   "outputs": [],
   "source": [
    "#there is white space values which mean 0 \n",
    "new_case_new = []\n",
    "today_death_new = []"
   ]
  },
  {
   "cell_type": "code",
   "execution_count": 201,
   "metadata": {},
   "outputs": [],
   "source": [
    "for i in df.new_case:\n",
    "    if i == '':\n",
    "        new_case_new.append(0)\n",
    "    else:\n",
    "        new_case_new.append(i)"
   ]
  },
  {
   "cell_type": "code",
   "execution_count": 202,
   "metadata": {},
   "outputs": [],
   "source": [
    "for i in df.today_death:\n",
    "    if i == '':\n",
    "        today_death_new.append(0)\n",
    "    else:\n",
    "        today_death_new.append(i)"
   ]
  },
  {
   "cell_type": "code",
   "execution_count": 203,
   "metadata": {},
   "outputs": [],
   "source": [
    "df.new_case = new_case_new\n",
    "df.today_death = today_death_new"
   ]
  },
  {
   "cell_type": "code",
   "execution_count": 210,
   "metadata": {},
   "outputs": [],
   "source": [
    "# I drop these columns beacuse i dont understand them :)\n",
    "df.drop(['Total1m','Deaths1m','TotalTests','Tests1m'],axis=1,inplace=True)"
   ]
  },
  {
   "cell_type": "code",
   "execution_count": 211,
   "metadata": {},
   "outputs": [],
   "source": [
    "# save csv file\n",
    "df.to_csv('../data/cases_by_conutries.csv')"
   ]
  }
 ],
 "metadata": {
  "kernelspec": {
   "display_name": "Python 3",
   "language": "python",
   "name": "python3"
  },
  "language_info": {
   "codemirror_mode": {
    "name": "ipython",
    "version": 3
   },
   "file_extension": ".py",
   "mimetype": "text/x-python",
   "name": "python",
   "nbconvert_exporter": "python",
   "pygments_lexer": "ipython3",
   "version": "3.7.4"
  }
 },
 "nbformat": 4,
 "nbformat_minor": 2
}
